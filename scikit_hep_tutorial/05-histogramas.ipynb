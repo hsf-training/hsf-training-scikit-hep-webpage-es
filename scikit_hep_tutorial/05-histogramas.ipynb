{
 "cells": [
  {
   "cell_type": "markdown",
   "id": "0",
   "metadata": {},
   "source": [
    "# Manipulaciones y ajustes de histogramas\n",
    "\n",
    "## Librerías de histogramas\n",
    "\n",
    "Python tiene librerías para llenar histogramas.\n",
    "\n",
    "### NumPy\n",
    "\n",
    "NumPy, por ejemplo, tiene una función [np.histogram](https://numpy.org/doc/stable/reference/generated/numpy.histogram.html)."
   ]
  },
  {
   "cell_type": "code",
   "execution_count": null,
   "id": "1",
   "metadata": {},
   "outputs": [],
   "source": [
    "import skhep_testdata, uproot\n",
    "\n",
    "tree = uproot.open(skhep_testdata.data_path(\"uproot-Zmumu.root\"))[\"events\"]\n",
    "\n",
    "import numpy as np\n",
    "\n",
    "np.histogram(tree[\"M\"].array())"
   ]
  },
  {
   "cell_type": "markdown",
   "id": "2",
   "metadata": {},
   "source": [
    "Debido a la prominencia de NumPy, este 2-tupla de arreglos (contenidos de los bins y bordes) es un formato de histograma ampliamente reconocido, aunque carece de muchas de las características que los físicos de alta energía esperan (sub/sobre flujo, etiquetas de ejes, incertidumbres, etc.).\n",
    "\n",
    "### Matplotlib\n",
    "\n",
    "Matplotlib también tiene una función [plt.hist](https://matplotlib.org/stable/api/_as_gen/matplotlib.pyplot.hist.html)."
   ]
  },
  {
   "cell_type": "code",
   "execution_count": null,
   "id": "3",
   "metadata": {},
   "outputs": [],
   "source": [
    "import matplotlib.pyplot as plt\n",
    "\n",
    "plt.hist(tree[\"M\"].array())"
   ]
  },
  {
   "cell_type": "markdown",
   "id": "4",
   "metadata": {},
   "source": [
    "Además de los mismos contenidos de bins y bordes que NumPy, Matplotlib incluye un gráfico que se puede graficar."
   ]
  },
  {
   "cell_type": "markdown",
   "id": "5",
   "metadata": {},
   "source": [
    "### Boost-histogram y hist\n",
    "\n",
    "La característica principal que falta en estas funciones (sin algún esfuerzo) es la posibilidad de rellenar nuevamente. Los físicos de altas energías generalmente quieren llenar histogramas con más datos de los que pueden caber en memoria, lo que significa establecer intervalos de bins en un contenedor vacío y llenarlo en lotes (secuencialmente o en paralelo).\n",
    "\n",
    "Boost-histogram es una biblioteca diseñada para ese propósito. Está destinada a ser un componente de infraestructura. Puedes explorar su funcionalidad \"de bajo nivel\" al importarla:"
   ]
  },
  {
   "cell_type": "code",
   "execution_count": null,
   "id": "6",
   "metadata": {},
   "outputs": [],
   "source": [
    "import boost_histogram as bh"
   ]
  },
  {
   "cell_type": "markdown",
   "id": "7",
   "metadata": {},
   "source": [
    "Una capa más amigable para el usuario (con gráficos, por ejemplo) es proporcionada por una biblioteca llamada \"hist.\""
   ]
  },
  {
   "cell_type": "code",
   "execution_count": null,
   "id": "8",
   "metadata": {},
   "outputs": [],
   "source": [
    "import hist\n",
    "\n",
    "h = hist.Hist(hist.axis.Regular(120, 60, 120, name=\"masa\"))\n",
    "\n",
    "h.fill(tree[\"M\"].array())\n",
    "\n",
    "h.plot()"
   ]
  },
  {
   "cell_type": "markdown",
   "id": "9",
   "metadata": {},
   "source": [
    "### Indexación Universal de Histogramas (UHI)\n",
    "\n",
    "Hay un intento dentro de Scikit-HEP para estandarizar lo que significan las rebanadas similares a arreglos para un histograma. ([Ver documentación](https://uhi.readthedocs.io/en/latest/indexing.html).)\n",
    "\n",
    "Naturalmente, las rebanadas enteras deberían seleccionar un rango de bins,"
   ]
  },
  {
   "cell_type": "code",
   "execution_count": null,
   "id": "10",
   "metadata": {},
   "outputs": [],
   "source": [
    "h[10:110].plot()"
   ]
  },
  {
   "cell_type": "markdown",
   "id": "11",
   "metadata": {},
   "source": [
    "pero a menudo deseamos seleccionar bins por valor de coordenada."
   ]
  },
  {
   "cell_type": "code",
   "execution_count": null,
   "id": "12",
   "metadata": {},
   "outputs": [],
   "source": [
    "# Versión explícita\n",
    "h[hist.loc(90) :].plot()\n",
    "\n",
    "# Versión corta\n",
    "h[90j:].plot()"
   ]
  },
  {
   "cell_type": "markdown",
   "id": "13",
   "metadata": {},
   "source": [
    "o rebinar por un factor,"
   ]
  },
  {
   "cell_type": "code",
   "execution_count": null,
   "id": "14",
   "metadata": {},
   "outputs": [],
   "source": [
    "# Versión explícita\n",
    "h[:: hist.rebin(2)].plot()\n",
    "\n",
    "# Versión corta\n",
    "h[::2j].plot()"
   ]
  },
  {
   "cell_type": "markdown",
   "id": "15",
   "metadata": {},
   "source": [
    "o sumar sobre un rango."
   ]
  },
  {
   "cell_type": "code",
   "execution_count": null,
   "id": "16",
   "metadata": {},
   "outputs": [],
   "source": [
    "# Versión explícita\n",
    "h[hist.loc(80) : hist.loc(100) : sum]\n",
    "\n",
    "# Versión corta\n",
    "h[90j:100j:sum]"
   ]
  },
  {
   "cell_type": "markdown",
   "id": "17",
   "metadata": {},
   "source": [
    "Las cosas se vuelven más interesantes cuando un histograma tiene múltiples dimensiones."
   ]
  },
  {
   "cell_type": "code",
   "execution_count": null,
   "id": "18",
   "metadata": {},
   "outputs": [],
   "source": [
    "import uproot\n",
    "import hist\n",
    "import awkward as ak\n",
    "\n",
    "picodst = uproot.open(\n",
    "    \"https://pivarski-princeton.s3.amazonaws.com/pythia_ppZee_run17emb.picoDst.root:PicoDst\"\n",
    ")\n",
    "\n",
    "hist_vertices = hist.Hist(\n",
    "    hist.axis.Regular(600, -1, 1, label=\"x\"),\n",
    "    hist.axis.Regular(600, -1, 1, label=\"y\"),\n",
    "    hist.axis.Regular(40, -200, 200, label=\"z\"),\n",
    ")\n",
    "\n",
    "datos_vertices = picodst.arrays(filter_name=\"*mPrimaryVertex[XYZ]\")\n",
    "\n",
    "hist_vertices.fill(\n",
    "    ak.flatten(datos_vertice[\"Event.mPrimaryVertexX\"]),\n",
    "    ak.flatten(datos_vertice[\"Event.mPrimaryVertexY\"]),\n",
    "    ak.flatten(datos_vertice[\"Event.mPrimaryVertexZ\"]),\n",
    ")\n",
    "\n",
    "hist_vertices[:, :, sum].plot2d_full()"
   ]
  },
  {
   "cell_type": "code",
   "execution_count": null,
   "id": "19",
   "metadata": {},
   "outputs": [],
   "source": [
    "hist_vertices[-0.25j:0.25j, -0.25j:0.25j, sum].plot2d_full()"
   ]
  },
  {
   "cell_type": "code",
   "execution_count": null,
   "id": "20",
   "metadata": {},
   "outputs": [],
   "source": [
    "hist_vertices[sum, sum, :].plot()"
   ]
  },
  {
   "cell_type": "code",
   "execution_count": null,
   "id": "21",
   "metadata": {},
   "outputs": [],
   "source": [
    "hist_vertices[-0.25j:0.25j:sum, -0.25j:0.25j:sum, :].plot()"
   ]
  },
  {
   "cell_type": "markdown",
   "id": "22",
   "metadata": {},
   "source": [
    "Un objeto de histograma puede tener más dimensiones de las que se pueden visualizar razonablemente; puedes rebanar, rebin y proyectar en algo visual más tarde."
   ]
  },
  {
   "cell_type": "markdown",
   "id": "23",
   "metadata": {},
   "source": [
    "## Ajuste de histogramas\n",
    "\n",
    "Escribiendo directamente una función de pérdida en Minuit:"
   ]
  },
  {
   "cell_type": "code",
   "execution_count": null,
   "id": "24",
   "metadata": {},
   "outputs": [],
   "source": [
    "import numpy as np\n",
    "import iminuit.cost\n",
    "\n",
    "norm = len(h.axes[0].widths) / (h.axes[0].edges[-1] - h.axes[0].edges[0]) / h.sum()\n",
    "\n",
    "\n",
    "def f(x, background, mu, gamma):\n",
    "    return (\n",
    "        background\n",
    "        + (1 - background) * gamma**2 / ((x - mu) ** 2 + gamma**2) / np.pi / gamma\n",
    "    )\n",
    "\n",
    "\n",
    "loss = iminuit.cost.LeastSquares(\n",
    "    h.axes[0].centers, h.values() * norm, np.sqrt(h.variances()) * norm, f\n",
    ")\n",
    "loss.mask = h.variances() > 0\n",
    "\n",
    "minimizer = iminuit.Minuit(loss, background=0, mu=91, gamma=4)\n",
    "\n",
    "minimizer.migrad()\n",
    "minimizer.hesse()\n",
    "\n",
    "(h * norm).plot()\n",
    "plt.plot(loss.x, f(loss.x, *minimizer.values))"
   ]
  },
  {
   "cell_type": "markdown",
   "id": "25",
   "metadata": {},
   "source": [
    "O a través de zfit, un ajustador similar a RooFit en Python:"
   ]
  },
  {
   "cell_type": "code",
   "execution_count": null,
   "id": "26",
   "metadata": {},
   "outputs": [],
   "source": [
    "import zfit\n",
    "\n",
    "binned_data = zfit.data.BinnedData.from_hist(h)\n",
    "\n",
    "binning = zfit.binned.RegularBinning(120, 60, 120, name=\"masa\")\n",
    "space = zfit.Space(\"masa\", binning=binning)\n",
    "\n",
    "background = zfit.Parameter(\"background\", 0)\n",
    "mu = zfit.Parameter(\"mu\", 91)\n",
    "gamma = zfit.Parameter(\"gamma\", 4)\n",
    "unbinned_model = zfit.pdf.SumPDF(\n",
    "    [zfit.pdf.Uniform(60, 120, space), zfit.pdf.Cauchy(mu, gamma, space)], [background]\n",
    ")\n",
    "\n",
    "model = zfit.pdf.BinnedFromUnbinnedPDF(unbinned_model, space)\n",
    "loss = zfit.loss.BinnedNLL(model, binned_data)\n",
    "\n",
    "minimizer = zfit.minimize.Minuit()\n",
    "result = minimizer.minimize(loss)\n",
    "\n",
    "binned_data.to_hist().plot(density=1)\n",
    "model.to_hist().plot(density=1)"
   ]
  }
 ],
 "metadata": {
  "kernelspec": {
   "display_name": "Python 3 (ipykernel)",
   "language": "python",
   "name": "python3"
  },
  "language_info": {
   "codemirror_mode": {
    "name": "ipython",
    "version": 3
   },
   "file_extension": ".py",
   "mimetype": "text/x-python",
   "name": "python",
   "nbconvert_exporter": "python",
   "pygments_lexer": "ipython3",
   "version": "3.12.7"
  }
 },
 "nbformat": 4,
 "nbformat_minor": 5
}
