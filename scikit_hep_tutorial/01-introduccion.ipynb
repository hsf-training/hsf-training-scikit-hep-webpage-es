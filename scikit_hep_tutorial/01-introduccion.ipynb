{
 "cells": [
  {
   "cell_type": "markdown",
   "id": "0",
   "metadata": {},
   "source": [
    "# Introducción: Fundamentos de Python"
   ]
  },
  {
   "cell_type": "markdown",
   "id": "1",
   "metadata": {},
   "source": [
    "## ¿Cuánto Python necesitamos saber?\n",
    "\n",
    "### Python básico\n",
    "\n",
    "La mayoría de los estudiantes comienzan este módulo después de una introducción a Python o ya están familiarizados con los *fundamentos* de Python. Por ejemplo, deberías sentirte cómodo con lo esencial de Python, como asignar variables,\n"
   ]
  },
  {
   "cell_type": "code",
   "execution_count": null,
   "id": "2",
   "metadata": {},
   "outputs": [],
   "source": [
    "x = 5"
   ]
  },
  {
   "cell_type": "markdown",
   "id": "3",
   "metadata": {},
   "source": [
    "sentencias if,"
   ]
  },
  {
   "cell_type": "code",
   "execution_count": null,
   "id": "4",
   "metadata": {},
   "outputs": [],
   "source": [
    "if x < 5:\n",
    "    print(\"pequeño\")\n",
    "else:\n",
    "    print(\"grande\")"
   ]
  },
  {
   "cell_type": "markdown",
   "id": "5",
   "metadata": {},
   "source": [
    "y bucles."
   ]
  },
  {
   "cell_type": "code",
   "execution_count": null,
   "id": "6",
   "metadata": {},
   "outputs": [],
   "source": [
    "for i in range(x):\n",
    "    print(i)"
   ]
  },
  {
   "cell_type": "markdown",
   "id": "7",
   "metadata": {},
   "source": [
    "Tu análisis de datos probablemente estará lleno de declaraciones como estas, aunque los tipos de operaciones en las que nos enfocaremos en este módulo tendrán una forma más parecida a\n",
    "\n",
    "```python\n",
    "import libreria_compilada\n",
    "\n",
    "libreria_compilata.operacion_computacional_costosa(array_grande)\n",
    "```\n",
    "\n",
    "El truco está en que el código del lado de Python sea lo suficientemente expresivo y el código compilado lo suficientemente general para que no necesites una nueva `libreria_compilada` para cada cosa que quieras hacer. Las librería presentadas en este módulo están diseñadas con interfaces que te permiten expresar lo que quieres hacer en Python y ejecutarlo en código compilado."
   ]
  },
  {
   "cell_type": "markdown",
   "id": "8",
   "metadata": {},
   "source": [
    "### Interfaces tipo diccionario y tipo array\n",
    "\n",
    "Los dos tipos de datos más importantes para estas interfaces son los diccionarios"
   ]
  },
  {
   "cell_type": "code",
   "execution_count": null,
   "id": "9",
   "metadata": {},
   "outputs": [],
   "source": [
    "un_diccionario = {\"palabra\": 1, \"otra palabra\": 2, \"alguna otra palabra\": 3}"
   ]
  },
  {
   "cell_type": "code",
   "execution_count": null,
   "id": "10",
   "metadata": {},
   "outputs": [],
   "source": [
    "un_diccionario[\"alguna otra palabra\"]"
   ]
  },
  {
   "cell_type": "code",
   "execution_count": null,
   "id": "11",
   "metadata": {},
   "outputs": [],
   "source": [
    "for clave in un_diccionario:\n",
    "    print(clave, un_diccionario[clave])"
   ]
  },
  {
   "cell_type": "markdown",
   "id": "12",
   "metadata": {},
   "source": [
    "y los arrays"
   ]
  },
  {
   "cell_type": "code",
   "execution_count": null,
   "id": "13",
   "metadata": {},
   "outputs": [],
   "source": [
    "import numpy as np\n",
    "\n",
    "un_array = np.array([0.0, 1.1, 2.2, 3.3, 4.4, 5.5, 6.6, 7.7, 8.8, 9.9])"
   ]
  },
  {
   "cell_type": "code",
   "execution_count": null,
   "id": "14",
   "metadata": {},
   "outputs": [],
   "source": [
    "un_array[4]"
   ]
  },
  {
   "cell_type": "code",
   "execution_count": null,
   "id": "15",
   "metadata": {},
   "outputs": [],
   "source": [
    "for x in un_array:\n",
    "    print(x)"
   ]
  },
  {
   "cell_type": "markdown",
   "id": "16",
   "metadata": {},
   "source": [
    "Aunque estos tipos de datos son importantes, lo que es más importante son las interfaces de estos tipos. Ambos representan funciones de claves a valores:\n",
    "\n",
    "- los diccionarios (usualmente) mapean de cadenas a objetos de Python,\n",
    "- los arrays (siempre) mapean de enteros no negativos a valores numéricos.\n",
    "\n",
    "La mayoría de los tipos que veremos en este módulo también mapean cadenas o enteros a datos, y usan la misma sintaxis que los diccionarios y los arrays. Si estás familiarizado con las interfaces de diccionarios y arrays, generalmente no tendrás que consultar la documentación sobre tipos parecidos a diccionarios o arrays, a menos que estés tratando de hacer algo especial.\n"
   ]
  },
  {
   "cell_type": "markdown",
   "id": "17",
   "metadata": {},
   "source": [
    "### Repaso de la interfaz de diccionario\n",
    "\n",
    "Para los diccionarios, las cosas que pueden ir entre corchetes (su \"dominio,\" como una función) son sus claves (`keys`)."
   ]
  },
  {
   "cell_type": "code",
   "execution_count": null,
   "id": "18",
   "metadata": {},
   "outputs": [],
   "source": [
    "un_diccionario = {\"palabra\": 1, \"otra palabra\": 2, \"alguna otra palabra\": 3}\n",
    "un_diccionario.keys()"
   ]
  },
  {
   "cell_type": "markdown",
   "id": "19",
   "metadata": {},
   "source": [
    "Nada más que estas claves puede usarse entre corchetes."
   ]
  },
  {
   "cell_type": "code",
   "execution_count": null,
   "id": "20",
   "metadata": {},
   "outputs": [],
   "source": [
    "un_diccionario[\"algo que inventé\"]"
   ]
  },
  {
   "cell_type": "markdown",
   "id": "21",
   "metadata": {},
   "source": [
    "a menos que haya sido agregado al diccionario."
   ]
  },
  {
   "cell_type": "code",
   "execution_count": null,
   "id": "22",
   "metadata": {},
   "outputs": [],
   "source": [
    "un_diccionario[\"algo que inventé\"] = 123\n",
    "un_diccionario[\"algo que inventé\"]"
   ]
  },
  {
   "cell_type": "markdown",
   "id": "23",
   "metadata": {},
   "source": [
    "Los elementos que pueden salir de un diccionario (su \"rango,\" como una función) son sus valores (`values`)."
   ]
  },
  {
   "cell_type": "code",
   "execution_count": null,
   "id": "24",
   "metadata": {},
   "outputs": [],
   "source": [
    "un_diccionario.values()"
   ]
  },
  {
   "cell_type": "markdown",
   "id": "25",
   "metadata": {},
   "source": [
    "Puedes obtener las claves y los valores como tuplas de 2 elementos al solicitar sus artículos (`items`)."
   ]
  },
  {
   "cell_type": "code",
   "execution_count": null,
   "id": "26",
   "metadata": {},
   "outputs": [],
   "source": [
    "un_diccionario.items()"
   ]
  },
  {
   "cell_type": "code",
   "execution_count": null,
   "id": "27",
   "metadata": {},
   "outputs": [],
   "source": [
    "for clave, valor in un_diccionario.items():\n",
    "    print(clave, valor)"
   ]
  },
  {
   "cell_type": "markdown",
   "id": "28",
   "metadata": {},
   "source": [
    "### Repaso de la interfaz de array\n",
    "\n",
    "Para los arrays, las cosas que pueden ir entre corchetes (su \"dominio,\" como una función) son enteros desde cero hasta, pero sin incluir, su longitud."
   ]
  },
  {
   "cell_type": "code",
   "execution_count": null,
   "id": "29",
   "metadata": {},
   "outputs": [],
   "source": [
    "import numpy as np\n",
    "\n",
    "un_array = np.array([0.0, 1.1, 2.2, 3.3, 4.4, 5.5, 6.6, 7.7, 8.8, 9.9])\n",
    "un_array[0]  # está bien\n",
    "un_array[1]  # está bien\n",
    "un_array[9]  # está bien\n",
    "un_array[10]  # no está bien"
   ]
  },
  {
   "cell_type": "markdown",
   "id": "30",
   "metadata": {},
   "source": [
    "Puedes obtener la longitud de un array (y el número de claves en un diccionario) con `len`:"
   ]
  },
  {
   "cell_type": "code",
   "execution_count": null,
   "id": "31",
   "metadata": {},
   "outputs": [],
   "source": [
    "len(un_array)"
   ]
  },
  {
   "cell_type": "markdown",
   "id": "32",
   "metadata": {},
   "source": [
    "Es importante recordar que el índice `0` corresponde al primer elemento del array, `1` al segundo, y así sucesivamente, por lo que `len(some_array)` no es un índice válido.\n",
    "\n",
    "Se permiten índices negativos, pero cuentan desde el final de la lista hacia el principio. Por ejemplo,"
   ]
  },
  {
   "cell_type": "code",
   "execution_count": null,
   "id": "33",
   "metadata": {},
   "outputs": [],
   "source": [
    "un_array[-1]"
   ]
  },
  {
   "cell_type": "markdown",
   "id": "34",
   "metadata": {},
   "source": [
    "devuelve el último elemento.\n",
    "\n",
    "**Quiz rápido:** ¿qué valor negativo devuelve el primer elemento, equivalente a `0`?\n",
    "\n",
    "Los arrays también se pueden rebanar o partir colocando dos puntos (`:`) entre el índice inicial y el índice final."
   ]
  },
  {
   "cell_type": "code",
   "execution_count": null,
   "id": "35",
   "metadata": {},
   "outputs": [],
   "source": [
    "un_array[2:7]"
   ]
  },
  {
   "cell_type": "markdown",
   "id": "36",
   "metadata": {},
   "source": [
    "**Quiz rápido:** ¿por qué `7.7` no está incluido?\n",
    "\n",
    "Lo anterior es común a todas las secuencias de Python. Sin embargo, los arrays pueden ser multidimensionales y esto permite más tipos de rebanado."
   ]
  },
  {
   "cell_type": "code",
   "execution_count": null,
   "id": "37",
   "metadata": {},
   "outputs": [],
   "source": [
    "array3d = np.arange(2 * 3 * 5).reshape(2, 3, 5)"
   ]
  },
  {
   "cell_type": "markdown",
   "id": "38",
   "metadata": {},
   "source": [
    "Separando dos rebanadas en los corchetes con una coma"
   ]
  },
  {
   "cell_type": "code",
   "execution_count": null,
   "id": "39",
   "metadata": {},
   "outputs": [],
   "source": [
    "array3d[:, 1:, 1:]"
   ]
  },
  {
   "cell_type": "markdown",
   "id": "40",
   "metadata": {},
   "source": [
    "selecciona lo siguiente:\n",
    "\n",
    "![array3d-highlight1](fig/array3d-highlight1.png)\n",
    "\n",
    "**Quiz rápido:** ¿cómo seleccionas lo siguiente?\n",
    "\n",
    "![array3d-highlight2](fig/array3d-highlight2.png)"
   ]
  },
  {
   "cell_type": "markdown",
   "id": "41",
   "metadata": {},
   "source": [
    "### Filtrado con booleanos y enteros: \"cortes\"\n",
    "\n",
    "Además de enteros y rebanadas, los arrays pueden incluirse en los corchetes.\n",
    "\n",
    "Un array de booleanos con la misma longitud que el array rebanado selecciona todos los elementos que coinciden con verdadero (`True`)."
   ]
  },
  {
   "cell_type": "code",
   "execution_count": null,
   "id": "42",
   "metadata": {},
   "outputs": [],
   "source": [
    "un_array = np.array([0.0, 1.1, 2.2, 3.3, 4.4, 5.5, 6.6, 7.7, 8.8, 9.9])\n",
    "array_booleano = np.array(\n",
    "    [True, True, True, True, True, False, True, False, True, False]\n",
    ")\n",
    "\n",
    "un_array[array_booleano]"
   ]
  },
  {
   "cell_type": "markdown",
   "id": "43",
   "metadata": {},
   "source": [
    "Un array de enteros selecciona elementos por índice."
   ]
  },
  {
   "cell_type": "code",
   "execution_count": null,
   "id": "44",
   "metadata": {},
   "outputs": [],
   "source": [
    "un_array = np.array([0.0, 1.1, 2.2, 3.3, 4.4, 5.5, 6.6, 7.7, 8.8, 9.9])\n",
    "array_de_enteros = np.array([0, 1, 2, 3, 4, 6, 8])\n",
    "\n",
    "un_array[array_de_enteros]"
   ]
  },
  {
   "cell_type": "markdown",
   "id": "45",
   "metadata": {},
   "source": [
    "El rebanado por enteros es más general que el rebanado booleano porque un array de enteros también puede cambiar el orden de los datos y repetir elementos."
   ]
  },
  {
   "cell_type": "code",
   "execution_count": null,
   "id": "46",
   "metadata": {},
   "outputs": [],
   "source": [
    "un_array[np.array([4, 2, 2, 2, 9, 8, 3])]"
   ]
  },
  {
   "cell_type": "markdown",
   "id": "47",
   "metadata": {},
   "source": [
    "Ambos aparecen en contextos naturales. Los arrays booleanos a menudo provienen de realizar un cálculo en todos los elementos de un array que devuelve valores booleanos."
   ]
  },
  {
   "cell_type": "code",
   "execution_count": null,
   "id": "48",
   "metadata": {},
   "outputs": [],
   "source": [
    "elementos_pares = un_array * 10 % 2 == 0\n",
    "\n",
    "un_array[elementos_pares]"
   ]
  },
  {
   "cell_type": "markdown",
   "id": "49",
   "metadata": {},
   "source": [
    "Así es como estaremos calculando y aplicando cortes: expresiones como\n",
    "\n",
    "```python\n",
    "corte_muon_bueno = (muones.pt > 10) & (abs(muones.eta) < 2.4)\n",
    "\n",
    "muones_buenos = muones[corte_muon_bueno]\n",
    "```"
   ]
  },
  {
   "cell_type": "markdown",
   "id": "50",
   "metadata": {},
   "source": [
    "### Operadores lógicos: `&`, `|`, `~`, y paréntesis\n",
    "\n",
    "Si vienes de C++, podrías esperar que \"y,\" \"o,\" \"no\" sean `&&`, `||`, `!`.\n",
    "\n",
    "Si vienes de Python no orientado a arrays, podrías esperar que sean `and`, `or`, `not`.\n",
    "\n",
    "En las expresiones de arrays (¡desafortunadamente!), tenemos que usar los operadores bit a bit de Python, `&`, `|`, `~`, y asegurarnos de que las comparaciones estén rodeadas de paréntesis. Los operadores `and`, `or`, `not` de Python no se aplican a través de arrays y los operadores bit a bit tienen una precedencia de operadores sorprendente.\n"
   ]
  },
  {
   "cell_type": "code",
   "execution_count": null,
   "id": "51",
   "metadata": {},
   "outputs": [],
   "source": [
    "x = 0"
   ]
  },
  {
   "cell_type": "code",
   "execution_count": null,
   "id": "52",
   "metadata": {},
   "outputs": [],
   "source": [
    "x > -10 & x < 10  # ¡probablemente no es lo que esperas!"
   ]
  },
  {
   "cell_type": "code",
   "execution_count": null,
   "id": "53",
   "metadata": {},
   "outputs": [],
   "source": [
    "(x > -10) & (x < 10)"
   ]
  },
  {
   "cell_type": "markdown",
   "id": "54",
   "metadata": {},
   "source": [
    "![bitwise-operator-parentheses](fig/bitwise-operator-parentheses.png)"
   ]
  },
  {
   "cell_type": "markdown",
   "id": "55",
   "metadata": {},
   "source": [
    "## ¿Qué es el procesamiento \"orientado a arrays\" o \"columnar\"?\n",
    "\n",
    "Expresiones como"
   ]
  },
  {
   "cell_type": "code",
   "execution_count": null,
   "id": "56",
   "metadata": {},
   "outputs": [],
   "source": [
    "elementos_pares = un_array * 10 % 2 == 0"
   ]
  },
  {
   "cell_type": "markdown",
   "id": "57",
   "metadata": {},
   "source": [
    "realizan las operaciones `*`, `%`, y `==` en cada elemento de `un_array` y devuelven arrays. Sin NumPy, lo anterior tendría que escribirse como"
   ]
  },
  {
   "cell_type": "code",
   "execution_count": null,
   "id": "58",
   "metadata": {},
   "outputs": [],
   "source": [
    "elementos_pares = []\n",
    "\n",
    "for x in un_array:\n",
    "    elementos_pares.append(x * 10 % 2 == 0)"
   ]
  },
  {
   "cell_type": "markdown",
   "id": "59",
   "metadata": {},
   "source": [
    "Esto es más engorroso cuando deseas aplicar una fórmula matemática a cada elemento de una colección, pero también es considerablemente más lento. Cada paso en un bucle `for` en Python realiza verificaciones de sanidad que son innecesarias para valores numéricos de tipo uniforme, verificaciones que se harían en tiempo de compilación en una librería compilada. NumPy *es* una librería compilada; sus operadores `*`, `%`, y `==`, así como muchas otras funciones, se realizan en bucles rápidos y compilados.\n",
    "\n",
    "Así es como obtenemos expresividad y velocidad. Los lenguajes con operadores que se aplican a arrays completos, en lugar de un valor escalar a la vez, se llaman lenguajes \"orientados a arrays\" o \"columnares\" (refiriéndose, por ejemplo, a las columnas de un DataFrame de Pandas).\n",
    "\n",
    "Bastantes lenguajes interactivos de análisis de datos están orientados a arrays, derivando del APL original. \"Orientado a arrays\" es un paradigma de programación en el mismo sentido que \"funcional\" u \"orientado a objetos\".\n",
    "\n",
    "![apl-timeline](fig/apl-timeline.png)\n"
   ]
  },
  {
   "cell_type": "markdown",
   "id": "60",
   "metadata": {},
   "source": [
    "## ¿Qué es un \"ecosistema de software\"?\n",
    "\n",
    "Algunos entornos de programación, como Mathematica, Emacs y ROOT, intentan proporcionarte todo lo que necesitas en un solo paquete. Solo hay una cosa que instalar y los componentes dentro del marco deberían funcionar bien juntos porque se desarrollaron en conjunto. Sin embargo, puede ser difícil usar el marco con otros paquetes de software no relacionados.\n",
    "\n",
    "Los ecosistemas, como UNIX, la App Store de iOS y Python, consisten en muchos paquetes de software pequeños que hacen una sola cosa y saben cómo comunicarse con otros paquetes a través de convenciones y protocolos. Por lo general, hay un mecanismo de instalación centralizado, y es responsabilidad del usuario reunir lo que se necesita. Sin embargo, el conjunto de posibilidades es abierto y crece a medida que surgen nuevas necesidades.\n",
    "\n",
    "En el Python mainstream, esto significa que\n",
    "\n",
    "- NumPy *solo* maneja arrays,\n",
    "- Pandas *solo* maneja tablas,\n",
    "- Matplotlib *solo* genera gráficos,\n",
    "- Jupyter *solo* proporciona una interfaz de cuaderno,\n",
    "- Scikit-Learn *solo* hace aprendizaje automático,\n",
    "- h5py *solo* interactúa con archivos HDF5,\n",
    "- etc.\n",
    "\n",
    "Los paquetes de Python para física de altas energías se están desarrollando con un modelo similar:\n",
    "\n",
    "- Uproot *solo* lee y escribe archivos ROOT,\n",
    "- Awkward Array *solo* maneja arrays de tipos irregulares,\n",
    "- hist *solo* maneja histogramas,\n",
    "- iminuit *solo* optimiza,\n",
    "- zfit *solo* ajusta,\n",
    "- Particle *solo* proporciona datos al estilo PDG,\n",
    "- etc.\n",
    "\n",
    "Para facilitar su localización, están catalogados bajo un nombre común en [scikit-hep.org](https://scikit-hep.org).\n",
    "\n",
    "![scikit-hep-logos](fig/scikit-hep-logos.png)"
   ]
  },
  {
   "cell_type": "code",
   "execution_count": null,
   "id": "61",
   "metadata": {},
   "outputs": [],
   "source": []
  }
 ],
 "metadata": {
  "kernelspec": {
   "display_name": "Python 3 (ipykernel)",
   "language": "python",
   "name": "python3"
  },
  "language_info": {
   "codemirror_mode": {
    "name": "ipython",
    "version": 3
   },
   "file_extension": ".py",
   "mimetype": "text/x-python",
   "name": "python",
   "nbconvert_exporter": "python",
   "pygments_lexer": "ipython3",
   "version": "3.12.7"
  }
 },
 "nbformat": 4,
 "nbformat_minor": 5
}
